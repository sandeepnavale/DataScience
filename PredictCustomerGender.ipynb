{
 "cells": [
  {
   "cell_type": "code",
   "execution_count": 1,
   "metadata": {},
   "outputs": [],
   "source": [
    "import pandas as pd\n",
    "import sqlite3\n",
    "import numpy as np\n",
    "import matplotlib.pyplot as plt\n",
    "import seaborn as sns\n",
    "import xgboost as xgb\n",
    "\n",
    "from numpy import sort\n",
    "from xgboost import XGBClassifier\n",
    "from xgboost import plot_importance\n",
    "from sklearn.model_selection import train_test_split\n",
    "from sklearn.metrics import accuracy_score\n",
    "from sklearn.feature_selection import SelectFromModel\n",
    "from sklearn.preprocessing import LabelEncoder\n",
    "from sklearn.metrics import confusion_matrix\n",
    "\n",
    "sns.set()\n",
    "%matplotlib inline"
   ]
  },
  {
   "cell_type": "code",
   "execution_count": null,
   "metadata": {},
   "outputs": [],
   "source": []
  },
  {
   "cell_type": "code",
   "execution_count": 3,
   "metadata": {},
   "outputs": [],
   "source": [
    "conn = sqlite3.connect(\"test_data.db\")\n",
    "cur = conn.cursor()"
   ]
  },
  {
   "cell_type": "markdown",
   "metadata": {},
   "source": [
    "# Stage 1: Basic SQL Queries\n"
   ]
  },
  {
   "cell_type": "markdown",
   "metadata": {},
   "source": [
    "### 1. What was the total revenue to the nearest dollar for customers who have paid by credit card?"
   ]
  },
  {
   "cell_type": "markdown",
   "metadata": {},
   "source": [
    "SELECT SUM(revenue) FROM customers WHERE cc_payments != 0;"
   ]
  },
  {
   "cell_type": "code",
   "execution_count": 4,
   "metadata": {},
   "outputs": [
    {
     "name": "stdout",
     "output_type": "stream",
     "text": [
      "Total revenue to the nearest dollar for customers who have paid by credit card $ 50372281.74\n"
     ]
    }
   ],
   "source": [
    "cur.execute(\"SELECT SUM(revenue) FROM customers WHERE cc_payments != 0;\")\n",
    "results = cur.fetchall()[0][0]\n",
    "print(f'Total revenue to the nearest dollar for customers who have paid by credit card $ {round(results,2)}')"
   ]
  },
  {
   "cell_type": "markdown",
   "metadata": {},
   "source": [
    "### 2. What percentage of customers who have purchased female items have paid by credit card?"
   ]
  },
  {
   "cell_type": "markdown",
   "metadata": {},
   "source": [
    "SELECT COUNT(DISTINCT(customer_id)) FROM customers WHERE (female_items != 0 AND cc_payments != 0)"
   ]
  },
  {
   "cell_type": "code",
   "execution_count": 5,
   "metadata": {},
   "outputs": [
    {
     "name": "stdout",
     "output_type": "stream",
     "text": [
      "What percentage of customers who have purchased female items have paid by credit card is 49.0%\n"
     ]
    }
   ],
   "source": [
    "cur.execute(\"SELECT COUNT(DISTINCT(customer_id)) FROM customers WHERE (female_items != 0 AND cc_payments != 0)\");\n",
    "cust_purchasing_female_items = cur.fetchall()[0][0]\n",
    "\n",
    "cur.execute(\"SELECT COUNT(DISTINCT(customer_id)) FROM customers\");\n",
    "total_cust = cur.fetchall()[0][0]\n",
    "\n",
    "# print(f\"{cust_purchasing_female_items},{total_cust}\")\n",
    "print(f\"What percentage of customers who have purchased female items have paid by credit card is {round((cust_purchasing_female_items/total_cust),2)*100}%\" )"
   ]
  },
  {
   "cell_type": "markdown",
   "metadata": {},
   "source": [
    "### 3. What was the average revenue for customers who used either iOS, Android or Desktop?"
   ]
  },
  {
   "cell_type": "markdown",
   "metadata": {},
   "source": [
    "SELECT AVG(revenue) FROM customers WHERE(desktop_orders != 0 OR ios_orders !=0 OR android_orders != 0)"
   ]
  },
  {
   "cell_type": "code",
   "execution_count": 6,
   "metadata": {},
   "outputs": [
    {
     "name": "stdout",
     "output_type": "stream",
     "text": [
      " The average revenue for customers who used either iOS, Android or Desktop = 1484.89\n"
     ]
    }
   ],
   "source": [
    "cur.execute(\"SELECT AVG(revenue) FROM customers WHERE(desktop_orders != 0 OR ios_orders !=0 OR android_orders != 0)\");\n",
    "avg_revenue = cur.fetchall()[0][0]\n",
    "print(f\" The average revenue for customers who used either iOS, Android or Desktop = {round(avg_revenue,2)}\" )"
   ]
  },
  {
   "cell_type": "markdown",
   "metadata": {},
   "source": [
    "### 4. We want to run an email campaign promoting a new mens luxury brand. Can you provide a list of customers we should send to?"
   ]
  },
  {
   "cell_type": "markdown",
   "metadata": {},
   "source": [
    "SELECT customer_id FROM customers WHERE ((male_items != 0 OR unisex_items != 0) AND is_newsletter_subscriber == 'Y')"
   ]
  },
  {
   "cell_type": "code",
   "execution_count": 7,
   "metadata": {},
   "outputs": [
    {
     "name": "stdout",
     "output_type": "stream",
     "text": [
      " 9826 Customers interested in mens products \n"
     ]
    }
   ],
   "source": [
    "cur.execute(\"SELECT customer_id FROM customers WHERE ((male_items != 0 OR unisex_items != 0) AND is_newsletter_subscriber == 'Y')\");\n",
    "customers_interested = cur.fetchall()\n",
    "\n",
    "print(f\" {len(customers_interested)} Customers interested in mens products \" )"
   ]
  },
  {
   "cell_type": "markdown",
   "metadata": {},
   "source": [
    "***"
   ]
  },
  {
   "cell_type": "markdown",
   "metadata": {},
   "source": [
    "# Stage 2: Cleaning of dataset"
   ]
  },
  {
   "cell_type": "markdown",
   "metadata": {},
   "source": [
    "CLEAN - Unhash the data (test_data.zip) using the secret key provided by us, extract it, most importantly clean it and put it in a form you can use - all programatically of course. We have also \"intentionally\" corrupted two columns in this file - two columns that might look correct but are not correct. They need \"some correction\" to be useful."
   ]
  },
  {
   "cell_type": "markdown",
   "metadata": {},
   "source": [
    "### Read JSON data to Dataframe."
   ]
  },
  {
   "cell_type": "code",
   "execution_count": 8,
   "metadata": {
    "scrolled": true
   },
   "outputs": [
    {
     "name": "stdout",
     "output_type": "stream",
     "text": [
      "This data set has 46279 rows & 43 columns\n"
     ]
    },
    {
     "data": {
      "text/plain": [
       "(46279, 43)"
      ]
     },
     "execution_count": 8,
     "metadata": {},
     "output_type": "execute_result"
    }
   ],
   "source": [
    "df1 = pd.read_json('data.json')\n",
    "print(f'This data set has {df1.shape[0]} rows & {df1.shape[1]} columns')\n",
    "df1.shape"
   ]
  },
  {
   "cell_type": "code",
   "execution_count": 9,
   "metadata": {},
   "outputs": [
    {
     "data": {
      "text/plain": [
       "afterpay_payments             int64\n",
       "android_orders                int64\n",
       "apple_payments                int64\n",
       "average_discount_onoffer    float64\n",
       "average_discount_used       float64\n",
       "cancels                       int64\n",
       "cc_payments                   int64\n",
       "coupon_discount_applied     float64\n",
       "curvy_items                   int64\n",
       "customer_id                  object\n",
       "days_since_first_order        int64\n",
       "days_since_last_order         int64\n",
       "desktop_orders                int64\n",
       "devices                       int64\n",
       "different_addresses           int64\n",
       "female_items                  int64\n",
       "home_orders                   int64\n",
       "ios_orders                    int64\n",
       "is_newsletter_subscriber     object\n",
       "items                         int64\n",
       "macc_items                    int64\n",
       "male_items                    int64\n",
       "mapp_items                    int64\n",
       "mftw_items                    int64\n",
       "msite_orders                  int64\n",
       "mspt_items                    int64\n",
       "orders                        int64\n",
       "other_collection_orders       int64\n",
       "other_device_orders           int64\n",
       "parcelpoint_orders            int64\n",
       "paypal_payments               int64\n",
       "redpen_discount_used        float64\n",
       "returns                       int64\n",
       "revenue                     float64\n",
       "sacc_items                    int64\n",
       "shipping_addresses            int64\n",
       "unisex_items                  int64\n",
       "vouchers                      int64\n",
       "wacc_items                    int64\n",
       "wapp_items                    int64\n",
       "wftw_items                    int64\n",
       "work_orders                   int64\n",
       "wspt_items                    int64\n",
       "dtype: object"
      ]
     },
     "execution_count": 9,
     "metadata": {},
     "output_type": "execute_result"
    }
   ],
   "source": [
    "df1.dtypes  # Data types of all features"
   ]
  },
  {
   "cell_type": "code",
   "execution_count": 10,
   "metadata": {},
   "outputs": [
    {
     "data": {
      "text/html": [
       "<div>\n",
       "<style scoped>\n",
       "    .dataframe tbody tr th:only-of-type {\n",
       "        vertical-align: middle;\n",
       "    }\n",
       "\n",
       "    .dataframe tbody tr th {\n",
       "        vertical-align: top;\n",
       "    }\n",
       "\n",
       "    .dataframe thead th {\n",
       "        text-align: right;\n",
       "    }\n",
       "</style>\n",
       "<table border=\"1\" class=\"dataframe\">\n",
       "  <thead>\n",
       "    <tr style=\"text-align: right;\">\n",
       "      <th></th>\n",
       "      <th>afterpay_payments</th>\n",
       "      <th>android_orders</th>\n",
       "      <th>apple_payments</th>\n",
       "      <th>average_discount_onoffer</th>\n",
       "      <th>average_discount_used</th>\n",
       "      <th>cancels</th>\n",
       "      <th>cc_payments</th>\n",
       "      <th>coupon_discount_applied</th>\n",
       "      <th>curvy_items</th>\n",
       "      <th>days_since_first_order</th>\n",
       "      <th>...</th>\n",
       "      <th>revenue</th>\n",
       "      <th>sacc_items</th>\n",
       "      <th>shipping_addresses</th>\n",
       "      <th>unisex_items</th>\n",
       "      <th>vouchers</th>\n",
       "      <th>wacc_items</th>\n",
       "      <th>wapp_items</th>\n",
       "      <th>wftw_items</th>\n",
       "      <th>work_orders</th>\n",
       "      <th>wspt_items</th>\n",
       "    </tr>\n",
       "  </thead>\n",
       "  <tbody>\n",
       "    <tr>\n",
       "      <th>count</th>\n",
       "      <td>46279.000000</td>\n",
       "      <td>46279.000000</td>\n",
       "      <td>46279.000000</td>\n",
       "      <td>46279.000000</td>\n",
       "      <td>46279.000000</td>\n",
       "      <td>46279.000000</td>\n",
       "      <td>46279.000000</td>\n",
       "      <td>36074.000000</td>\n",
       "      <td>46279.000000</td>\n",
       "      <td>46279.000000</td>\n",
       "      <td>...</td>\n",
       "      <td>46279.000000</td>\n",
       "      <td>46279.000000</td>\n",
       "      <td>46279.000000</td>\n",
       "      <td>46279.000000</td>\n",
       "      <td>46279.000000</td>\n",
       "      <td>46279.000000</td>\n",
       "      <td>46279.000000</td>\n",
       "      <td>46279.000000</td>\n",
       "      <td>46279.000000</td>\n",
       "      <td>46279.000000</td>\n",
       "    </tr>\n",
       "    <tr>\n",
       "      <th>mean</th>\n",
       "      <td>0.053437</td>\n",
       "      <td>0.042935</td>\n",
       "      <td>0.000562</td>\n",
       "      <td>0.190271</td>\n",
       "      <td>2357.381799</td>\n",
       "      <td>0.053091</td>\n",
       "      <td>0.642386</td>\n",
       "      <td>174.395472</td>\n",
       "      <td>0.041423</td>\n",
       "      <td>1374.041444</td>\n",
       "      <td>...</td>\n",
       "      <td>1303.695708</td>\n",
       "      <td>0.087642</td>\n",
       "      <td>1.500940</td>\n",
       "      <td>0.390047</td>\n",
       "      <td>0.940275</td>\n",
       "      <td>0.573565</td>\n",
       "      <td>3.795091</td>\n",
       "      <td>1.633333</td>\n",
       "      <td>0.239785</td>\n",
       "      <td>0.378530</td>\n",
       "    </tr>\n",
       "    <tr>\n",
       "      <th>std</th>\n",
       "      <td>0.224905</td>\n",
       "      <td>0.535762</td>\n",
       "      <td>0.023696</td>\n",
       "      <td>0.190814</td>\n",
       "      <td>2033.075229</td>\n",
       "      <td>2.169831</td>\n",
       "      <td>0.479303</td>\n",
       "      <td>838.683487</td>\n",
       "      <td>0.782021</td>\n",
       "      <td>604.972862</td>\n",
       "      <td>...</td>\n",
       "      <td>5599.989015</td>\n",
       "      <td>0.538434</td>\n",
       "      <td>1.098283</td>\n",
       "      <td>1.230722</td>\n",
       "      <td>2.413117</td>\n",
       "      <td>2.538707</td>\n",
       "      <td>12.660505</td>\n",
       "      <td>4.084444</td>\n",
       "      <td>1.560983</td>\n",
       "      <td>1.711348</td>\n",
       "    </tr>\n",
       "    <tr>\n",
       "      <th>min</th>\n",
       "      <td>0.000000</td>\n",
       "      <td>0.000000</td>\n",
       "      <td>0.000000</td>\n",
       "      <td>0.000000</td>\n",
       "      <td>0.000000</td>\n",
       "      <td>0.000000</td>\n",
       "      <td>0.000000</td>\n",
       "      <td>0.000000</td>\n",
       "      <td>0.000000</td>\n",
       "      <td>1.000000</td>\n",
       "      <td>...</td>\n",
       "      <td>0.000000</td>\n",
       "      <td>0.000000</td>\n",
       "      <td>1.000000</td>\n",
       "      <td>0.000000</td>\n",
       "      <td>0.000000</td>\n",
       "      <td>0.000000</td>\n",
       "      <td>0.000000</td>\n",
       "      <td>0.000000</td>\n",
       "      <td>0.000000</td>\n",
       "      <td>0.000000</td>\n",
       "    </tr>\n",
       "    <tr>\n",
       "      <th>25%</th>\n",
       "      <td>0.000000</td>\n",
       "      <td>0.000000</td>\n",
       "      <td>0.000000</td>\n",
       "      <td>0.000000</td>\n",
       "      <td>83.883000</td>\n",
       "      <td>0.000000</td>\n",
       "      <td>0.000000</td>\n",
       "      <td>0.000000</td>\n",
       "      <td>0.000000</td>\n",
       "      <td>910.000000</td>\n",
       "      <td>...</td>\n",
       "      <td>76.340000</td>\n",
       "      <td>0.000000</td>\n",
       "      <td>1.000000</td>\n",
       "      <td>0.000000</td>\n",
       "      <td>0.000000</td>\n",
       "      <td>0.000000</td>\n",
       "      <td>0.000000</td>\n",
       "      <td>0.000000</td>\n",
       "      <td>0.000000</td>\n",
       "      <td>0.000000</td>\n",
       "    </tr>\n",
       "    <tr>\n",
       "      <th>50%</th>\n",
       "      <td>0.000000</td>\n",
       "      <td>0.000000</td>\n",
       "      <td>0.000000</td>\n",
       "      <td>0.150000</td>\n",
       "      <td>2122.648100</td>\n",
       "      <td>0.000000</td>\n",
       "      <td>1.000000</td>\n",
       "      <td>0.000000</td>\n",
       "      <td>0.000000</td>\n",
       "      <td>1713.000000</td>\n",
       "      <td>...</td>\n",
       "      <td>212.670000</td>\n",
       "      <td>0.000000</td>\n",
       "      <td>1.000000</td>\n",
       "      <td>0.000000</td>\n",
       "      <td>0.000000</td>\n",
       "      <td>0.000000</td>\n",
       "      <td>0.000000</td>\n",
       "      <td>0.000000</td>\n",
       "      <td>0.000000</td>\n",
       "      <td>0.000000</td>\n",
       "    </tr>\n",
       "    <tr>\n",
       "      <th>75%</th>\n",
       "      <td>0.000000</td>\n",
       "      <td>0.000000</td>\n",
       "      <td>0.000000</td>\n",
       "      <td>0.314300</td>\n",
       "      <td>3829.882950</td>\n",
       "      <td>0.000000</td>\n",
       "      <td>1.000000</td>\n",
       "      <td>61.800000</td>\n",
       "      <td>0.000000</td>\n",
       "      <td>1786.000000</td>\n",
       "      <td>...</td>\n",
       "      <td>790.500000</td>\n",
       "      <td>0.000000</td>\n",
       "      <td>2.000000</td>\n",
       "      <td>0.000000</td>\n",
       "      <td>1.000000</td>\n",
       "      <td>0.000000</td>\n",
       "      <td>2.000000</td>\n",
       "      <td>2.000000</td>\n",
       "      <td>0.000000</td>\n",
       "      <td>0.000000</td>\n",
       "    </tr>\n",
       "    <tr>\n",
       "      <th>max</th>\n",
       "      <td>1.000000</td>\n",
       "      <td>33.000000</td>\n",
       "      <td>1.000000</td>\n",
       "      <td>1.000000</td>\n",
       "      <td>10000.000000</td>\n",
       "      <td>460.000000</td>\n",
       "      <td>1.000000</td>\n",
       "      <td>33332.260000</td>\n",
       "      <td>116.000000</td>\n",
       "      <td>2164.000000</td>\n",
       "      <td>...</td>\n",
       "      <td>354700.160000</td>\n",
       "      <td>29.000000</td>\n",
       "      <td>15.000000</td>\n",
       "      <td>83.000000</td>\n",
       "      <td>57.000000</td>\n",
       "      <td>353.000000</td>\n",
       "      <td>409.000000</td>\n",
       "      <td>261.000000</td>\n",
       "      <td>84.000000</td>\n",
       "      <td>56.000000</td>\n",
       "    </tr>\n",
       "  </tbody>\n",
       "</table>\n",
       "<p>8 rows × 41 columns</p>\n",
       "</div>"
      ],
      "text/plain": [
       "       afterpay_payments  android_orders  apple_payments  \\\n",
       "count       46279.000000    46279.000000    46279.000000   \n",
       "mean            0.053437        0.042935        0.000562   \n",
       "std             0.224905        0.535762        0.023696   \n",
       "min             0.000000        0.000000        0.000000   \n",
       "25%             0.000000        0.000000        0.000000   \n",
       "50%             0.000000        0.000000        0.000000   \n",
       "75%             0.000000        0.000000        0.000000   \n",
       "max             1.000000       33.000000        1.000000   \n",
       "\n",
       "       average_discount_onoffer  average_discount_used       cancels  \\\n",
       "count              46279.000000           46279.000000  46279.000000   \n",
       "mean                   0.190271            2357.381799      0.053091   \n",
       "std                    0.190814            2033.075229      2.169831   \n",
       "min                    0.000000               0.000000      0.000000   \n",
       "25%                    0.000000              83.883000      0.000000   \n",
       "50%                    0.150000            2122.648100      0.000000   \n",
       "75%                    0.314300            3829.882950      0.000000   \n",
       "max                    1.000000           10000.000000    460.000000   \n",
       "\n",
       "        cc_payments  coupon_discount_applied   curvy_items  \\\n",
       "count  46279.000000             36074.000000  46279.000000   \n",
       "mean       0.642386               174.395472      0.041423   \n",
       "std        0.479303               838.683487      0.782021   \n",
       "min        0.000000                 0.000000      0.000000   \n",
       "25%        0.000000                 0.000000      0.000000   \n",
       "50%        1.000000                 0.000000      0.000000   \n",
       "75%        1.000000                61.800000      0.000000   \n",
       "max        1.000000             33332.260000    116.000000   \n",
       "\n",
       "       days_since_first_order  ...        revenue    sacc_items  \\\n",
       "count            46279.000000  ...   46279.000000  46279.000000   \n",
       "mean              1374.041444  ...    1303.695708      0.087642   \n",
       "std                604.972862  ...    5599.989015      0.538434   \n",
       "min                  1.000000  ...       0.000000      0.000000   \n",
       "25%                910.000000  ...      76.340000      0.000000   \n",
       "50%               1713.000000  ...     212.670000      0.000000   \n",
       "75%               1786.000000  ...     790.500000      0.000000   \n",
       "max               2164.000000  ...  354700.160000     29.000000   \n",
       "\n",
       "       shipping_addresses  unisex_items      vouchers    wacc_items  \\\n",
       "count        46279.000000  46279.000000  46279.000000  46279.000000   \n",
       "mean             1.500940      0.390047      0.940275      0.573565   \n",
       "std              1.098283      1.230722      2.413117      2.538707   \n",
       "min              1.000000      0.000000      0.000000      0.000000   \n",
       "25%              1.000000      0.000000      0.000000      0.000000   \n",
       "50%              1.000000      0.000000      0.000000      0.000000   \n",
       "75%              2.000000      0.000000      1.000000      0.000000   \n",
       "max             15.000000     83.000000     57.000000    353.000000   \n",
       "\n",
       "         wapp_items    wftw_items   work_orders    wspt_items  \n",
       "count  46279.000000  46279.000000  46279.000000  46279.000000  \n",
       "mean       3.795091      1.633333      0.239785      0.378530  \n",
       "std       12.660505      4.084444      1.560983      1.711348  \n",
       "min        0.000000      0.000000      0.000000      0.000000  \n",
       "25%        0.000000      0.000000      0.000000      0.000000  \n",
       "50%        0.000000      0.000000      0.000000      0.000000  \n",
       "75%        2.000000      2.000000      0.000000      0.000000  \n",
       "max      409.000000    261.000000     84.000000     56.000000  \n",
       "\n",
       "[8 rows x 41 columns]"
      ]
     },
     "execution_count": 10,
     "metadata": {},
     "output_type": "execute_result"
    }
   ],
   "source": [
    "df1.describe()"
   ]
  },
  {
   "cell_type": "markdown",
   "metadata": {},
   "source": [
    "## Validation :  \n",
    "### Check if there is any Empty/NA entries in the dataset"
   ]
  },
  {
   "cell_type": "code",
   "execution_count": 11,
   "metadata": {},
   "outputs": [
    {
     "data": {
      "text/plain": [
       "True"
      ]
     },
     "execution_count": 11,
     "metadata": {},
     "output_type": "execute_result"
    }
   ],
   "source": [
    "df1.isnull().values.any()"
   ]
  },
  {
   "cell_type": "code",
   "execution_count": 12,
   "metadata": {},
   "outputs": [
    {
     "data": {
      "text/plain": [
       "afterpay_payments               0\n",
       "android_orders                  0\n",
       "apple_payments                  0\n",
       "average_discount_onoffer        0\n",
       "average_discount_used           0\n",
       "cancels                         0\n",
       "cc_payments                     0\n",
       "coupon_discount_applied     10205\n",
       "curvy_items                     0\n",
       "customer_id                     0\n",
       "days_since_first_order          0\n",
       "days_since_last_order           0\n",
       "desktop_orders                  0\n",
       "devices                         0\n",
       "different_addresses             0\n",
       "female_items                    0\n",
       "home_orders                     0\n",
       "ios_orders                      0\n",
       "is_newsletter_subscriber        0\n",
       "items                           0\n",
       "macc_items                      0\n",
       "male_items                      0\n",
       "mapp_items                      0\n",
       "mftw_items                      0\n",
       "msite_orders                    0\n",
       "mspt_items                      0\n",
       "orders                          0\n",
       "other_collection_orders         0\n",
       "other_device_orders             0\n",
       "parcelpoint_orders              0\n",
       "paypal_payments                 0\n",
       "redpen_discount_used            0\n",
       "returns                         0\n",
       "revenue                         0\n",
       "sacc_items                      0\n",
       "shipping_addresses              0\n",
       "unisex_items                    0\n",
       "vouchers                        0\n",
       "wacc_items                      0\n",
       "wapp_items                      0\n",
       "wftw_items                      0\n",
       "work_orders                     0\n",
       "wspt_items                      0\n",
       "dtype: int64"
      ]
     },
     "execution_count": 12,
     "metadata": {},
     "output_type": "execute_result"
    }
   ],
   "source": [
    "df1.isna().sum()"
   ]
  },
  {
   "cell_type": "markdown",
   "metadata": {},
   "source": [
    "**there are 10205 NA/ Empty values for 'coupon_discount_applied'**  "
   ]
  },
  {
   "cell_type": "code",
   "execution_count": 13,
   "metadata": {},
   "outputs": [
    {
     "data": {
      "text/plain": [
       "10205"
      ]
     },
     "execution_count": 13,
     "metadata": {},
     "output_type": "execute_result"
    }
   ],
   "source": [
    "df1.isna().sum().sum()  #NA found in dataset"
   ]
  },
  {
   "cell_type": "code",
   "execution_count": 14,
   "metadata": {},
   "outputs": [
    {
     "data": {
      "text/plain": [
       "10205"
      ]
     },
     "execution_count": 14,
     "metadata": {},
     "output_type": "execute_result"
    }
   ],
   "source": [
    "df1.isnull().sum().sum()"
   ]
  },
  {
   "cell_type": "code",
   "execution_count": 15,
   "metadata": {},
   "outputs": [
    {
     "name": "stdout",
     "output_type": "stream",
     "text": [
      "coupon_discount_applied\n"
     ]
    }
   ],
   "source": [
    "for c in df1.columns:\n",
    "    if(len(df1[df1[c].isna()])):\n",
    "        print(c)"
   ]
  },
  {
   "cell_type": "code",
   "execution_count": 16,
   "metadata": {},
   "outputs": [
    {
     "name": "stdout",
     "output_type": "stream",
     "text": [
      " 10205 customers have NULL/NA coupon discount applied \n"
     ]
    }
   ],
   "source": [
    "num_of_items_with_coupon_null = len(df1[df1['coupon_discount_applied'].isnull()])\n",
    "print(f' {num_of_items_with_coupon_null} customers have NULL/NA coupon discount applied ')"
   ]
  },
  {
   "cell_type": "markdown",
   "metadata": {},
   "source": [
    "####  Replace NaN with 0 for all empty 'coupon_discount_applied'"
   ]
  },
  {
   "cell_type": "code",
   "execution_count": 17,
   "metadata": {},
   "outputs": [],
   "source": [
    "df1['coupon_discount_applied'].fillna(0,inplace=True)  # Fill all NA/NULL with 0"
   ]
  },
  {
   "cell_type": "code",
   "execution_count": 18,
   "metadata": {},
   "outputs": [
    {
     "data": {
      "text/plain": [
       "0"
      ]
     },
     "execution_count": 18,
     "metadata": {},
     "output_type": "execute_result"
    }
   ],
   "source": [
    "len(df1[df1['coupon_discount_applied'].isnull()])"
   ]
  },
  {
   "cell_type": "code",
   "execution_count": 19,
   "metadata": {
    "scrolled": true
   },
   "outputs": [
    {
     "data": {
      "text/plain": [
       "0"
      ]
     },
     "execution_count": 19,
     "metadata": {},
     "output_type": "execute_result"
    }
   ],
   "source": [
    "df1.isna().sum().sum() # Should be ZERO by this time."
   ]
  },
  {
   "cell_type": "markdown",
   "metadata": {},
   "source": [
    "### Validation: Check for Zero standard deviation in column entries.\n",
    "Zero standard deviation suggests data has some variations and has good spread. ignore features with ZERO std deviation"
   ]
  },
  {
   "cell_type": "code",
   "execution_count": 20,
   "metadata": {},
   "outputs": [
    {
     "data": {
      "text/plain": [
       "afterpay_payments               0.224905\n",
       "android_orders                  0.535762\n",
       "apple_payments                  0.023696\n",
       "average_discount_onoffer        0.190814\n",
       "average_discount_used        2033.075229\n",
       "cancels                         2.169831\n",
       "cc_payments                     0.479303\n",
       "coupon_discount_applied       743.982289\n",
       "curvy_items                     0.782021\n",
       "days_since_first_order        604.972862\n",
       "days_since_last_order       16935.826675\n",
       "desktop_orders                  6.094596\n",
       "devices                         0.533424\n",
       "different_addresses             0.320891\n",
       "female_items                   17.805349\n",
       "home_orders                     4.443313\n",
       "ios_orders                      2.488750\n",
       "items                          19.932067\n",
       "macc_items                      2.538707\n",
       "male_items                      5.464658\n",
       "mapp_items                      3.693033\n",
       "mftw_items                      1.441323\n",
       "msite_orders                    2.855797\n",
       "mspt_items                      0.715292\n",
       "orders                          8.115099\n",
       "other_collection_orders         5.185966\n",
       "other_device_orders             0.009297\n",
       "parcelpoint_orders              0.451226\n",
       "paypal_payments                 0.499923\n",
       "redpen_discount_used         1849.462559\n",
       "returns                         7.006281\n",
       "revenue                      5599.989015\n",
       "sacc_items                      0.538434\n",
       "shipping_addresses              1.098283\n",
       "unisex_items                    1.230722\n",
       "vouchers                        2.413117\n",
       "wacc_items                      2.538707\n",
       "wapp_items                     12.660505\n",
       "wftw_items                      4.084444\n",
       "work_orders                     1.560983\n",
       "wspt_items                      1.711348\n",
       "dtype: float64"
      ]
     },
     "execution_count": 20,
     "metadata": {},
     "output_type": "execute_result"
    }
   ],
   "source": [
    "df1.std()"
   ]
  },
  {
   "cell_type": "markdown",
   "metadata": {},
   "source": [
    "**Great, :+1: all entries has some variations in entires as none of the above has std == 0**  "
   ]
  },
  {
   "cell_type": "markdown",
   "metadata": {},
   "source": [
    "## Data validation:\n",
    "**Cancellation which is greater 9 is outlier, so reset cancellation > 9 to 9. we have cancellation of 55,15 & 460 in data** "
   ]
  },
  {
   "cell_type": "code",
   "execution_count": 21,
   "metadata": {},
   "outputs": [
    {
     "data": {
      "text/html": [
       "<div>\n",
       "<style scoped>\n",
       "    .dataframe tbody tr th:only-of-type {\n",
       "        vertical-align: middle;\n",
       "    }\n",
       "\n",
       "    .dataframe tbody tr th {\n",
       "        vertical-align: top;\n",
       "    }\n",
       "\n",
       "    .dataframe thead th {\n",
       "        text-align: right;\n",
       "    }\n",
       "</style>\n",
       "<table border=\"1\" class=\"dataframe\">\n",
       "  <thead>\n",
       "    <tr style=\"text-align: right;\">\n",
       "      <th></th>\n",
       "      <th>afterpay_payments</th>\n",
       "      <th>android_orders</th>\n",
       "      <th>apple_payments</th>\n",
       "      <th>average_discount_onoffer</th>\n",
       "      <th>average_discount_used</th>\n",
       "      <th>cancels</th>\n",
       "      <th>cc_payments</th>\n",
       "      <th>coupon_discount_applied</th>\n",
       "      <th>curvy_items</th>\n",
       "      <th>customer_id</th>\n",
       "      <th>...</th>\n",
       "      <th>revenue</th>\n",
       "      <th>sacc_items</th>\n",
       "      <th>shipping_addresses</th>\n",
       "      <th>unisex_items</th>\n",
       "      <th>vouchers</th>\n",
       "      <th>wacc_items</th>\n",
       "      <th>wapp_items</th>\n",
       "      <th>wftw_items</th>\n",
       "      <th>work_orders</th>\n",
       "      <th>wspt_items</th>\n",
       "    </tr>\n",
       "  </thead>\n",
       "  <tbody>\n",
       "    <tr>\n",
       "      <th>13624</th>\n",
       "      <td>0</td>\n",
       "      <td>0</td>\n",
       "      <td>0</td>\n",
       "      <td>0.1312</td>\n",
       "      <td>2620.3675</td>\n",
       "      <td>15</td>\n",
       "      <td>1</td>\n",
       "      <td>12439.31</td>\n",
       "      <td>0</td>\n",
       "      <td>f90436ed5b0d98ffc000acae4887a749</td>\n",
       "      <td>...</td>\n",
       "      <td>73173.21</td>\n",
       "      <td>1</td>\n",
       "      <td>1</td>\n",
       "      <td>0</td>\n",
       "      <td>14</td>\n",
       "      <td>16</td>\n",
       "      <td>229</td>\n",
       "      <td>6</td>\n",
       "      <td>0</td>\n",
       "      <td>14</td>\n",
       "    </tr>\n",
       "    <tr>\n",
       "      <th>16591</th>\n",
       "      <td>0</td>\n",
       "      <td>0</td>\n",
       "      <td>0</td>\n",
       "      <td>0.1929</td>\n",
       "      <td>2711.7172</td>\n",
       "      <td>55</td>\n",
       "      <td>1</td>\n",
       "      <td>299.69</td>\n",
       "      <td>0</td>\n",
       "      <td>d0755a180d3c75b74da9f417686acc70</td>\n",
       "      <td>...</td>\n",
       "      <td>200.75</td>\n",
       "      <td>0</td>\n",
       "      <td>12</td>\n",
       "      <td>2</td>\n",
       "      <td>7</td>\n",
       "      <td>13</td>\n",
       "      <td>13</td>\n",
       "      <td>18</td>\n",
       "      <td>0</td>\n",
       "      <td>3</td>\n",
       "    </tr>\n",
       "    <tr>\n",
       "      <th>37682</th>\n",
       "      <td>0</td>\n",
       "      <td>0</td>\n",
       "      <td>0</td>\n",
       "      <td>0.0866</td>\n",
       "      <td>944.6601</td>\n",
       "      <td>460</td>\n",
       "      <td>1</td>\n",
       "      <td>381.67</td>\n",
       "      <td>0</td>\n",
       "      <td>70ffbb7d0356d47ebbd7b2288e16a064</td>\n",
       "      <td>...</td>\n",
       "      <td>4584.76</td>\n",
       "      <td>1</td>\n",
       "      <td>9</td>\n",
       "      <td>83</td>\n",
       "      <td>4</td>\n",
       "      <td>63</td>\n",
       "      <td>192</td>\n",
       "      <td>261</td>\n",
       "      <td>0</td>\n",
       "      <td>6</td>\n",
       "    </tr>\n",
       "  </tbody>\n",
       "</table>\n",
       "<p>3 rows × 43 columns</p>\n",
       "</div>"
      ],
      "text/plain": [
       "       afterpay_payments  android_orders  apple_payments  \\\n",
       "13624                  0               0               0   \n",
       "16591                  0               0               0   \n",
       "37682                  0               0               0   \n",
       "\n",
       "       average_discount_onoffer  average_discount_used  cancels  cc_payments  \\\n",
       "13624                    0.1312              2620.3675       15            1   \n",
       "16591                    0.1929              2711.7172       55            1   \n",
       "37682                    0.0866               944.6601      460            1   \n",
       "\n",
       "       coupon_discount_applied  curvy_items                       customer_id  \\\n",
       "13624                 12439.31            0  f90436ed5b0d98ffc000acae4887a749   \n",
       "16591                   299.69            0  d0755a180d3c75b74da9f417686acc70   \n",
       "37682                   381.67            0  70ffbb7d0356d47ebbd7b2288e16a064   \n",
       "\n",
       "       ...   revenue  sacc_items  shipping_addresses  unisex_items  vouchers  \\\n",
       "13624  ...  73173.21           1                   1             0        14   \n",
       "16591  ...    200.75           0                  12             2         7   \n",
       "37682  ...   4584.76           1                   9            83         4   \n",
       "\n",
       "       wacc_items  wapp_items  wftw_items work_orders  wspt_items  \n",
       "13624          16         229           6           0          14  \n",
       "16591          13          13          18           0           3  \n",
       "37682          63         192         261           0           6  \n",
       "\n",
       "[3 rows x 43 columns]"
      ]
     },
     "execution_count": 21,
     "metadata": {},
     "output_type": "execute_result"
    }
   ],
   "source": [
    "df1[df1['cancels']>9]"
   ]
  },
  {
   "cell_type": "code",
   "execution_count": 22,
   "metadata": {},
   "outputs": [
    {
     "data": {
      "text/html": [
       "<div>\n",
       "<style scoped>\n",
       "    .dataframe tbody tr th:only-of-type {\n",
       "        vertical-align: middle;\n",
       "    }\n",
       "\n",
       "    .dataframe tbody tr th {\n",
       "        vertical-align: top;\n",
       "    }\n",
       "\n",
       "    .dataframe thead th {\n",
       "        text-align: right;\n",
       "    }\n",
       "</style>\n",
       "<table border=\"1\" class=\"dataframe\">\n",
       "  <thead>\n",
       "    <tr style=\"text-align: right;\">\n",
       "      <th></th>\n",
       "      <th>afterpay_payments</th>\n",
       "      <th>android_orders</th>\n",
       "      <th>apple_payments</th>\n",
       "      <th>average_discount_onoffer</th>\n",
       "      <th>average_discount_used</th>\n",
       "      <th>cancels</th>\n",
       "      <th>cc_payments</th>\n",
       "      <th>coupon_discount_applied</th>\n",
       "      <th>curvy_items</th>\n",
       "      <th>customer_id</th>\n",
       "      <th>...</th>\n",
       "      <th>revenue</th>\n",
       "      <th>sacc_items</th>\n",
       "      <th>shipping_addresses</th>\n",
       "      <th>unisex_items</th>\n",
       "      <th>vouchers</th>\n",
       "      <th>wacc_items</th>\n",
       "      <th>wapp_items</th>\n",
       "      <th>wftw_items</th>\n",
       "      <th>work_orders</th>\n",
       "      <th>wspt_items</th>\n",
       "    </tr>\n",
       "  </thead>\n",
       "  <tbody>\n",
       "  </tbody>\n",
       "</table>\n",
       "<p>0 rows × 43 columns</p>\n",
       "</div>"
      ],
      "text/plain": [
       "Empty DataFrame\n",
       "Columns: [afterpay_payments, android_orders, apple_payments, average_discount_onoffer, average_discount_used, cancels, cc_payments, coupon_discount_applied, curvy_items, customer_id, days_since_first_order, days_since_last_order, desktop_orders, devices, different_addresses, female_items, home_orders, ios_orders, is_newsletter_subscriber, items, macc_items, male_items, mapp_items, mftw_items, msite_orders, mspt_items, orders, other_collection_orders, other_device_orders, parcelpoint_orders, paypal_payments, redpen_discount_used, returns, revenue, sacc_items, shipping_addresses, unisex_items, vouchers, wacc_items, wapp_items, wftw_items, work_orders, wspt_items]\n",
       "Index: []\n",
       "\n",
       "[0 rows x 43 columns]"
      ]
     },
     "execution_count": 22,
     "metadata": {},
     "output_type": "execute_result"
    }
   ],
   "source": [
    "df1['cancels'] = df1['cancels'].apply(lambda x: 9 if x>9  else x)\n",
    "df1[df1['cancels']>9]"
   ]
  },
  {
   "cell_type": "markdown",
   "metadata": {},
   "source": [
    "## Data Validation: \n",
    "###  Check for \" items = male_items + female_items + unisex_items \""
   ]
  },
  {
   "cell_type": "code",
   "execution_count": 23,
   "metadata": {},
   "outputs": [
    {
     "data": {
      "text/plain": [
       "0"
      ]
     },
     "execution_count": 23,
     "metadata": {},
     "output_type": "execute_result"
    }
   ],
   "source": [
    "len(df1[df1['male_items']+df1['female_items']+df1['unisex_items'] != df1['items']])"
   ]
  },
  {
   "cell_type": "markdown",
   "metadata": {},
   "source": [
    "Great sums match :+1:"
   ]
  },
  {
   "cell_type": "markdown",
   "metadata": {},
   "source": [
    "**male_items & female_items should be equal to sum of all mXXX_items & wXXX_items respectively**"
   ]
  },
  {
   "cell_type": "code",
   "execution_count": 24,
   "metadata": {},
   "outputs": [],
   "source": [
    "df1['actual_male_items'] = df1['macc_items']+  df1['mftw_items'] + df1['mapp_items'] + df1['mspt_items']\n",
    "df1['actual_female_items'] = df1['wacc_items'] +  df1['wftw_items'] + df1['wapp_items'] + df1['wspt_items']"
   ]
  },
  {
   "cell_type": "code",
   "execution_count": 25,
   "metadata": {},
   "outputs": [
    {
     "name": "stdout",
     "output_type": "stream",
     "text": [
      " Opps 16882 of items were wrongly caluculated for male_items\n"
     ]
    }
   ],
   "source": [
    "# df1[['male_items','actual_male_items']]\n",
    "num_mismatch_male_items = len(df1[df1['male_items'] != df1['actual_male_items']])\n",
    "print(f' Opps {num_mismatch_male_items} of items were wrongly caluculated for male_items' )"
   ]
  },
  {
   "cell_type": "code",
   "execution_count": 26,
   "metadata": {},
   "outputs": [
    {
     "name": "stdout",
     "output_type": "stream",
     "text": [
      " There is mismatch  of 5834 entries for female_items\n"
     ]
    }
   ],
   "source": [
    "num_mismatch_female_items = len(df1[df1['female_items'] != df1['actual_female_items']])\n",
    "print(f' There is mismatch  of {num_mismatch_female_items} entries for female_items' )"
   ]
  },
  {
   "cell_type": "markdown",
   "metadata": {},
   "source": [
    "## Conversion: Change non-numeric 'customer_id' to numeric cust_num "
   ]
  },
  {
   "cell_type": "code",
   "execution_count": 27,
   "metadata": {},
   "outputs": [],
   "source": [
    "le = LabelEncoder()\n",
    "df1['cust_num'] = le.fit_transform(df1['customer_id'])"
   ]
  },
  {
   "cell_type": "code",
   "execution_count": 28,
   "metadata": {},
   "outputs": [
    {
     "data": {
      "text/html": [
       "<div>\n",
       "<style scoped>\n",
       "    .dataframe tbody tr th:only-of-type {\n",
       "        vertical-align: middle;\n",
       "    }\n",
       "\n",
       "    .dataframe tbody tr th {\n",
       "        vertical-align: top;\n",
       "    }\n",
       "\n",
       "    .dataframe thead th {\n",
       "        text-align: right;\n",
       "    }\n",
       "</style>\n",
       "<table border=\"1\" class=\"dataframe\">\n",
       "  <thead>\n",
       "    <tr style=\"text-align: right;\">\n",
       "      <th></th>\n",
       "      <th>customer_id</th>\n",
       "      <th>cust_num</th>\n",
       "    </tr>\n",
       "  </thead>\n",
       "  <tbody>\n",
       "    <tr>\n",
       "      <th>0</th>\n",
       "      <td>64f7d7dd7a59bba7168cc9c960a5c60e</td>\n",
       "      <td>18249</td>\n",
       "    </tr>\n",
       "    <tr>\n",
       "      <th>1</th>\n",
       "      <td>fa7c64efd5c037ff2abcce571f9c1712</td>\n",
       "      <td>45001</td>\n",
       "    </tr>\n",
       "    <tr>\n",
       "      <th>2</th>\n",
       "      <td>18923c9361f27583d2320951435e4888</td>\n",
       "      <td>4430</td>\n",
       "    </tr>\n",
       "    <tr>\n",
       "      <th>3</th>\n",
       "      <td>aa21f31def4edbdcead818afcdfc4d32</td>\n",
       "      <td>30564</td>\n",
       "    </tr>\n",
       "    <tr>\n",
       "      <th>4</th>\n",
       "      <td>668c6aac52ff54d4828ad379cdb38e7d</td>\n",
       "      <td>18547</td>\n",
       "    </tr>\n",
       "  </tbody>\n",
       "</table>\n",
       "</div>"
      ],
      "text/plain": [
       "                        customer_id  cust_num\n",
       "0  64f7d7dd7a59bba7168cc9c960a5c60e     18249\n",
       "1  fa7c64efd5c037ff2abcce571f9c1712     45001\n",
       "2  18923c9361f27583d2320951435e4888      4430\n",
       "3  aa21f31def4edbdcead818afcdfc4d32     30564\n",
       "4  668c6aac52ff54d4828ad379cdb38e7d     18547"
      ]
     },
     "execution_count": 28,
     "metadata": {},
     "output_type": "execute_result"
    }
   ],
   "source": [
    "df1[['customer_id','cust_num']].head()"
   ]
  },
  {
   "cell_type": "markdown",
   "metadata": {},
   "source": [
    "## Validation: Initial guess of gender based on males_items & female_items\n",
    "\n",
    "By intuition guessing gender based on mXXX_items for males & wXXX_items for the females"
   ]
  },
  {
   "cell_type": "code",
   "execution_count": 29,
   "metadata": {},
   "outputs": [],
   "source": [
    "df1['gender'] = 1  # default every one is male\n",
    "\n",
    "df1.loc[\n",
    "        (df1['macc_items'] != 0) | \n",
    "        (df1['mftw_items'] != 0) |\n",
    "        (df1['mapp_items'] != 0) |\n",
    "        (df1['mspt_items'] != 0) |\n",
    "#         (df1['unisex_items'] != 0) | # Commenting it out, as it should not impact gender.\n",
    "        (df1['male_items'] != 0),\n",
    "        'gender'] = 1\n",
    "\n",
    "df1.loc[\n",
    "        (df1['wacc_items'] != 0) | \n",
    "        (df1['wapp_items'] != 0) |\n",
    "        (df1['wftw_items'] != 0) |\n",
    "        (df1['wspt_items'] != 0) |\n",
    "#         (df1['unisex_items'] != 0) | # Commenting it out, as it should not impact gender.\n",
    "        (df1['female_items'] != 0)  \n",
    "        ,\n",
    "        'gender'] = 0"
   ]
  },
  {
   "cell_type": "code",
   "execution_count": 30,
   "metadata": {},
   "outputs": [
    {
     "name": "stdout",
     "output_type": "stream",
     "text": [
      " We have 10831 males & 35448 females in our dataset, as per initial estimate\n"
     ]
    }
   ],
   "source": [
    "num_males = len(df1[df1['gender'] == 1])\n",
    "num_females = len(df1[df1['gender'] == 0])\n",
    "\n",
    "print(f' We have {num_males} males & {num_females} females in our dataset, as per initial estimate')"
   ]
  },
  {
   "cell_type": "markdown",
   "metadata": {},
   "source": [
    "# Stage 3: Build Model#\n",
    "**BUILD - Build a deep learning model (preferably) or any other model that suitably answers this question and predict the inferred gender using the features provided and deriving more featueres at your end. Remember, there is no gender flag, so you are flying blind here.**"
   ]
  },
  {
   "cell_type": "code",
   "execution_count": 31,
   "metadata": {},
   "outputs": [],
   "source": [
    "X = df1.iloc[:,0:len(df1.columns)-1]\n",
    "Y = df1.iloc[:,len(df1.columns)-1]"
   ]
  },
  {
   "cell_type": "markdown",
   "metadata": {},
   "source": [
    "Drop unnecessary features"
   ]
  },
  {
   "cell_type": "code",
   "execution_count": 32,
   "metadata": {},
   "outputs": [
    {
     "data": {
      "text/plain": [
       "Index(['afterpay_payments', 'android_orders', 'apple_payments',\n",
       "       'average_discount_onoffer', 'average_discount_used', 'cancels',\n",
       "       'cc_payments', 'coupon_discount_applied', 'curvy_items',\n",
       "       'days_since_first_order', 'days_since_last_order', 'desktop_orders',\n",
       "       'devices', 'different_addresses', 'home_orders', 'ios_orders',\n",
       "       'is_newsletter_subscriber', 'items', 'macc_items', 'mapp_items',\n",
       "       'mftw_items', 'msite_orders', 'mspt_items', 'orders',\n",
       "       'other_collection_orders', 'other_device_orders', 'parcelpoint_orders',\n",
       "       'paypal_payments', 'redpen_discount_used', 'returns', 'revenue',\n",
       "       'sacc_items', 'shipping_addresses', 'unisex_items', 'vouchers',\n",
       "       'wacc_items', 'wapp_items', 'wftw_items', 'work_orders', 'wspt_items',\n",
       "       'actual_male_items', 'actual_female_items', 'cust_num'],\n",
       "      dtype='object')"
      ]
     },
     "execution_count": 32,
     "metadata": {},
     "output_type": "execute_result"
    }
   ],
   "source": [
    "X.drop('customer_id',axis=1,inplace=True)\n",
    "X.drop('male_items',axis=1,inplace=True) # as we have actual_male_items, calculated.\n",
    "X.drop('female_items',axis=1,inplace=True) # as we have actual_female_items, calculated.\n",
    "\n",
    "#convert Y/N to 1 & 0\n",
    "X['is_newsletter_subscriber'] = X['is_newsletter_subscriber'].apply(lambda row: 1 if row == 'Y' else 0)\n",
    "\n",
    "X.columns #for refernce"
   ]
  },
  {
   "cell_type": "markdown",
   "metadata": {},
   "source": [
    "Converting 'customer_id' to numerical using LabelEncoder"
   ]
  },
  {
   "cell_type": "markdown",
   "metadata": {},
   "source": [
    "**Using XGBoost model on training set, get the feature importance**"
   ]
  },
  {
   "cell_type": "code",
   "execution_count": 33,
   "metadata": {},
   "outputs": [
    {
     "data": {
      "image/png": "[encoded data removed]",
      "text/plain": [
       "<Figure size 1080x720 with 1 Axes>"
      ]
     },
     "metadata": {
      "needs_background": "light"
     },
     "output_type": "display_data"
    }
   ],
   "source": [
    "# Split training & test sets.\n",
    "X_train, X_test, y_train, y_test = train_test_split(X, Y, test_size=0.33, random_state=7)\n",
    "\n",
    "# fit model to training data\n",
    "model = XGBClassifier()\n",
    "model.fit(X_train, y_train)\n",
    "# print(model)\n",
    "# print(model.feature_importances_)\n",
    "# get feature importance from builtin function.\n",
    "ax = plot_importance(model)\n",
    "fig = ax.figure\n",
    "fig.set_size_inches(15, 10)\n",
    "plt.show()"
   ]
  },
  {
   "cell_type": "code",
   "execution_count": 34,
   "metadata": {},
   "outputs": [
    {
     "name": "stdout",
     "output_type": "stream",
     "text": [
      "Accuracy: 98.42%\n"
     ]
    }
   ],
   "source": [
    "# make predictions for test data and evaluate\n",
    "y_pred = model.predict(X_test)\n",
    "accuracy = accuracy_score(y_test, y_pred)\n",
    "\n",
    "print(\"Accuracy: %.2f%%\" % (accuracy * 100.0))"
   ]
  },
  {
   "cell_type": "markdown",
   "metadata": {},
   "source": [
    "### Feature selection & Parameter tunning for XGBoost ###"
   ]
  },
  {
   "cell_type": "markdown",
   "metadata": {},
   "source": [
    "use 'SelectFromModel',a Meta-transformer for selecting features based on importance weights."
   ]
  },
  {
   "cell_type": "code",
   "execution_count": 35,
   "metadata": {},
   "outputs": [
    {
     "name": "stdout",
     "output_type": "stream",
     "text": [
      "0.9841550448503896\n"
     ]
    }
   ],
   "source": [
    "# select features using threshold = 0\n",
    "selection = SelectFromModel(model, threshold=0, prefit=True)\n",
    "select_X_train = selection.transform(X_train)\n",
    "# train model\n",
    "selection_model = XGBClassifier()\n",
    "selection_model.fit(select_X_train, y_train)\n",
    "# eval model\n",
    "select_X_test = selection.transform(X_test)\n",
    "y_pred = selection_model.predict(select_X_test)\n",
    "\n",
    "accuracy = accuracy_score(y_test, y_pred)\n",
    "print(accuracy)"
   ]
  },
  {
   "cell_type": "markdown",
   "metadata": {},
   "source": [
    "Lets try all the thresholds/features & select few features with less impact on accuracy"
   ]
  },
  {
   "cell_type": "code",
   "execution_count": 36,
   "metadata": {},
   "outputs": [
    {
     "name": "stdout",
     "output_type": "stream",
     "text": [
      "Thresh=0.000, n=43, Accuracy: 98.42%\n",
      "Thresh=0.000, n=43, Accuracy: 98.42%\n",
      "Thresh=0.000, n=43, Accuracy: 98.42%\n",
      "Thresh=0.000, n=43, Accuracy: 98.42%\n",
      "Thresh=0.000, n=43, Accuracy: 98.42%\n",
      "Thresh=0.000, n=43, Accuracy: 98.42%\n",
      "Thresh=0.000, n=43, Accuracy: 98.42%\n",
      "Thresh=0.000, n=43, Accuracy: 98.42%\n",
      "Thresh=0.000, n=43, Accuracy: 98.42%\n",
      "Thresh=0.000, n=43, Accuracy: 98.42%\n",
      "Thresh=0.000, n=43, Accuracy: 98.42%\n",
      "Thresh=0.000, n=43, Accuracy: 98.42%\n",
      "Thresh=0.000, n=43, Accuracy: 98.42%\n",
      "Thresh=0.000, n=43, Accuracy: 98.42%\n",
      "Thresh=0.000, n=43, Accuracy: 98.42%\n",
      "Thresh=0.000, n=43, Accuracy: 98.42%\n",
      "Thresh=0.000, n=43, Accuracy: 98.42%\n",
      "Thresh=0.000, n=43, Accuracy: 98.42%\n",
      "Thresh=0.000, n=43, Accuracy: 98.42%\n",
      "Thresh=0.000, n=43, Accuracy: 98.42%\n",
      "Thresh=0.000, n=43, Accuracy: 98.42%\n",
      "Thresh=0.000, n=43, Accuracy: 98.42%\n",
      "Thresh=0.001, n=21, Accuracy: 98.42%\n",
      "Thresh=0.001, n=20, Accuracy: 98.40%\n",
      "Thresh=0.002, n=19, Accuracy: 98.42%\n",
      "Thresh=0.002, n=18, Accuracy: 98.44%\n",
      "Thresh=0.002, n=17, Accuracy: 98.43%\n",
      "Thresh=0.002, n=16, Accuracy: 98.42%\n",
      "Thresh=0.002, n=15, Accuracy: 98.44%\n",
      "Thresh=0.003, n=14, Accuracy: 98.45%\n",
      "Thresh=0.003, n=13, Accuracy: 98.45%\n",
      "Thresh=0.004, n=12, Accuracy: 98.45%\n",
      "Thresh=0.004, n=11, Accuracy: 98.42%\n",
      "Thresh=0.005, n=10, Accuracy: 98.47%\n",
      "Thresh=0.005, n=9, Accuracy: 98.45%\n",
      "Thresh=0.007, n=8, Accuracy: 98.44%\n",
      "Thresh=0.009, n=7, Accuracy: 98.46%\n",
      "Thresh=0.014, n=6, Accuracy: 98.42%\n",
      "Thresh=0.016, n=5, Accuracy: 98.22%\n",
      "Thresh=0.016, n=4, Accuracy: 98.22%\n",
      "Thresh=0.017, n=3, Accuracy: 98.22%\n",
      "Thresh=0.043, n=2, Accuracy: 97.93%\n",
      "Thresh=0.840, n=1, Accuracy: 97.93%\n"
     ]
    }
   ],
   "source": [
    "# Fit model using each importance as a threshold\n",
    "thresholds = sort(model.feature_importances_)\n",
    "for thresh in thresholds:\n",
    "    # select features using threshold\n",
    "    selection = SelectFromModel(model, threshold=thresh, prefit=True)\n",
    "    select_X_train = selection.transform(X_train)\n",
    "    # train model\n",
    "    selection_model = XGBClassifier()\n",
    "    selection_model.fit(select_X_train, y_train)\n",
    "    # eval model\n",
    "    select_X_test = selection.transform(X_test)\n",
    "    y_pred = selection_model.predict(select_X_test)\n",
    "#     predictions = [round(value) for value in y_pred] # no need as has only 0/1 values\n",
    "    accuracy = accuracy_score(y_test, y_pred)\n",
    "    print(\"Thresh=%.3f, n=%d, Accuracy: %.2f%%\" % (thresh, select_X_train.shape[1], accuracy*100.0))"
   ]
  },
  {
   "cell_type": "markdown",
   "metadata": {},
   "source": [
    "Selecting Threshold of 0.005, at when num of features selected is 10 (n=10), since it has the highest accuracy of 98.47%"
   ]
  },
  {
   "cell_type": "code",
   "execution_count": 37,
   "metadata": {},
   "outputs": [
    {
     "name": "stdout",
     "output_type": "stream",
     "text": [
      "0.984744320041904\n"
     ]
    }
   ],
   "source": [
    "# select features using threshold\n",
    "selection = SelectFromModel(model, threshold=0.005, prefit=True)\n",
    "select_X_train = selection.transform(X_train)\n",
    "# train model\n",
    "selection_model = XGBClassifier()\n",
    "selection_model.fit(select_X_train, y_train)\n",
    "# eval model\n",
    "select_X_test = selection.transform(X_test)\n",
    "y_pred = selection_model.predict(select_X_test)\n",
    "\n",
    "accuracy = accuracy_score(y_test, y_pred)\n",
    "print(accuracy)"
   ]
  },
  {
   "cell_type": "markdown",
   "metadata": {},
   "source": [
    "Lets see the confusion matrix to validate the model"
   ]
  },
  {
   "cell_type": "code",
   "execution_count": 38,
   "metadata": {},
   "outputs": [
    {
     "data": {
      "text/plain": [
       "array([[11523,   196],\n",
       "       [   37,  3517]])"
      ]
     },
     "execution_count": 38,
     "metadata": {},
     "output_type": "execute_result"
    }
   ],
   "source": [
    "cm = confusion_matrix(y_test, y_pred)\n",
    "cm"
   ]
  },
  {
   "cell_type": "code",
   "execution_count": 39,
   "metadata": {},
   "outputs": [],
   "source": [
    "select_X = selection.transform(X)\n",
    "predicted_gender = selection_model.predict(select_X)\n",
    "X['predicted_gender'] = predicted_gender"
   ]
  },
  {
   "cell_type": "markdown",
   "metadata": {},
   "source": [
    "**We had 10831 males & 35448 females in our dataset, as per our initial estimate before**"
   ]
  },
  {
   "cell_type": "code",
   "execution_count": 40,
   "metadata": {},
   "outputs": [
    {
     "name": "stdout",
     "output_type": "stream",
     "text": [
      " Now I have 11339 males & 34940 females in our dataset, as per the Model\n",
      " 508 Genders got corrected\n"
     ]
    }
   ],
   "source": [
    "num_males_new = len(X[X['predicted_gender'] == 1])\n",
    "num_females_new = len(X[X['predicted_gender'] == 0])\n",
    "\n",
    "print(f' Now I have {num_males_new} males & {num_females_new} females in our dataset, as per the Model')\n",
    "print(f' {num_males_new-num_males} Genders got corrected')"
   ]
  },
  {
   "cell_type": "markdown",
   "metadata": {},
   "source": [
    "*** "
   ]
  },
  {
   "cell_type": "markdown",
   "metadata": {},
   "source": [
    "# Stage 4: Reporting & Visualization"
   ]
  },
  {
   "cell_type": "markdown",
   "metadata": {},
   "source": [
    "## Impact of males & females on Revenue & Orders."
   ]
  },
  {
   "cell_type": "code",
   "execution_count": 41,
   "metadata": {},
   "outputs": [
    {
     "data": {
      "text/html": [
       "<div>\n",
       "<style scoped>\n",
       "    .dataframe tbody tr th:only-of-type {\n",
       "        vertical-align: middle;\n",
       "    }\n",
       "\n",
       "    .dataframe tbody tr th {\n",
       "        vertical-align: top;\n",
       "    }\n",
       "\n",
       "    .dataframe thead tr th {\n",
       "        text-align: left;\n",
       "    }\n",
       "\n",
       "    .dataframe thead tr:last-of-type th {\n",
       "        text-align: right;\n",
       "    }\n",
       "</style>\n",
       "<table border=\"1\" class=\"dataframe\">\n",
       "  <thead>\n",
       "    <tr>\n",
       "      <th></th>\n",
       "      <th colspan=\"2\" halign=\"left\">sum</th>\n",
       "      <th colspan=\"2\" halign=\"left\">mean</th>\n",
       "    </tr>\n",
       "    <tr>\n",
       "      <th></th>\n",
       "      <th>orders</th>\n",
       "      <th>revenue</th>\n",
       "      <th>orders</th>\n",
       "      <th>revenue</th>\n",
       "    </tr>\n",
       "    <tr>\n",
       "      <th>predicted_gender</th>\n",
       "      <th></th>\n",
       "      <th></th>\n",
       "      <th></th>\n",
       "      <th></th>\n",
       "    </tr>\n",
       "  </thead>\n",
       "  <tbody>\n",
       "    <tr>\n",
       "      <th>0</th>\n",
       "      <td>167326</td>\n",
       "      <td>5.509044e+07</td>\n",
       "      <td>4.788952</td>\n",
       "      <td>1576.715623</td>\n",
       "    </tr>\n",
       "    <tr>\n",
       "      <th>1</th>\n",
       "      <td>22798</td>\n",
       "      <td>5.243290e+06</td>\n",
       "      <td>2.010583</td>\n",
       "      <td>462.412014</td>\n",
       "    </tr>\n",
       "  </tbody>\n",
       "</table>\n",
       "</div>"
      ],
      "text/plain": [
       "                     sum                    mean             \n",
       "                  orders       revenue    orders      revenue\n",
       "predicted_gender                                             \n",
       "0                 167326  5.509044e+07  4.788952  1576.715623\n",
       "1                  22798  5.243290e+06  2.010583   462.412014"
      ]
     },
     "execution_count": 41,
     "metadata": {},
     "output_type": "execute_result"
    }
   ],
   "source": [
    "order_revenue_tbl = X.pivot_table(\n",
    "                                index=['predicted_gender'],\n",
    "                                values=['revenue','orders'],\n",
    "                                aggfunc=[np.sum,np.mean]\n",
    "                                )\n",
    "order_revenue_tbl"
   ]
  },
  {
   "cell_type": "markdown",
   "metadata": {},
   "source": [
    "_From above table its evident that we get most of the revenue & orders from females(0) than males(1)_"
   ]
  },
  {
   "cell_type": "code",
   "execution_count": 42,
   "metadata": {},
   "outputs": [
    {
     "data": {
      "text/plain": [
       "array([<matplotlib.axes._subplots.AxesSubplot object at 0x7f1ec47a2668>,\n",
       "       <matplotlib.axes._subplots.AxesSubplot object at 0x7f1ec493f0b8>,\n",
       "       <matplotlib.axes._subplots.AxesSubplot object at 0x7f1ec49957f0>,\n",
       "       <matplotlib.axes._subplots.AxesSubplot object at 0x7f1ec49e6048>],\n",
       "      dtype=object)"
      ]
     },
     "execution_count": 42,
     "metadata": {},
     "output_type": "execute_result"
    },
    {
     "data": {
      "image/png": "[encoded data removed]",
      "text/plain": [
       "<Figure size 1440x360 with 4 Axes>"
      ]
     },
     "metadata": {},
     "output_type": "display_data"
    }
   ],
   "source": [
    "order_revenue_tbl.plot(kind='pie',subplots=True,figsize=(20,5),title=\"Revenue & Orders based on Gender\")"
   ]
  },
  {
   "cell_type": "code",
   "execution_count": 43,
   "metadata": {},
   "outputs": [
    {
     "data": {
      "text/html": [
       "<div>\n",
       "<style scoped>\n",
       "    .dataframe tbody tr th:only-of-type {\n",
       "        vertical-align: middle;\n",
       "    }\n",
       "\n",
       "    .dataframe tbody tr th {\n",
       "        vertical-align: top;\n",
       "    }\n",
       "\n",
       "    .dataframe thead th {\n",
       "        text-align: right;\n",
       "    }\n",
       "</style>\n",
       "<table border=\"1\" class=\"dataframe\">\n",
       "  <thead>\n",
       "    <tr style=\"text-align: right;\">\n",
       "      <th></th>\n",
       "      <th>orders</th>\n",
       "      <th>returns</th>\n",
       "    </tr>\n",
       "    <tr>\n",
       "      <th>predicted_gender</th>\n",
       "      <th></th>\n",
       "      <th></th>\n",
       "    </tr>\n",
       "  </thead>\n",
       "  <tbody>\n",
       "    <tr>\n",
       "      <th>0</th>\n",
       "      <td>4.788952</td>\n",
       "      <td>2.050773</td>\n",
       "    </tr>\n",
       "    <tr>\n",
       "      <th>1</th>\n",
       "      <td>2.010583</td>\n",
       "      <td>0.302055</td>\n",
       "    </tr>\n",
       "  </tbody>\n",
       "</table>\n",
       "</div>"
      ],
      "text/plain": [
       "                    orders   returns\n",
       "predicted_gender                    \n",
       "0                 4.788952  2.050773\n",
       "1                 2.010583  0.302055"
      ]
     },
     "execution_count": 43,
     "metadata": {},
     "output_type": "execute_result"
    }
   ],
   "source": [
    "returns_tbl = X.pivot_table(index=['predicted_gender'],\n",
    "              values=['returns','orders'],\n",
    "              aggfunc=np.mean)\n",
    "\n",
    "returns_tbl"
   ]
  },
  {
   "cell_type": "code",
   "execution_count": null,
   "metadata": {},
   "outputs": [],
   "source": []
  },
  {
   "cell_type": "markdown",
   "metadata": {},
   "source": [
    "## Number of \"return\" orders based on gender. "
   ]
  },
  {
   "cell_type": "code",
   "execution_count": 44,
   "metadata": {},
   "outputs": [
    {
     "data": {
      "text/plain": [
       "<matplotlib.axes._subplots.AxesSubplot at 0x7f1ec4470c18>"
      ]
     },
     "execution_count": 44,
     "metadata": {},
     "output_type": "execute_result"
    },
    {
     "data": {
      "image/png": "[encoded data removed]",
      "text/plain": [
       "<Figure size 432x288 with 1 Axes>"
      ]
     },
     "metadata": {
      "needs_background": "light"
     },
     "output_type": "display_data"
    }
   ],
   "source": [
    "returns_tbl.plot(kind='bar',title='Average number of returns based on gender')"
   ]
  },
  {
   "cell_type": "code",
   "execution_count": 45,
   "metadata": {},
   "outputs": [
    {
     "name": "stdout",
     "output_type": "stream",
     "text": [
      "Only 15.02% of orders are returned by gentle mens :-)\n"
     ]
    }
   ],
   "source": [
    "percentage_male_returns = X[X['predicted_gender'] == 1]['returns'].sum() / X[X['predicted_gender'] == 1]['orders'].sum()\n",
    "print(f'Only {round(percentage_male_returns*100,2)}% of orders are returned by gentle mens :-)')"
   ]
  },
  {
   "cell_type": "code",
   "execution_count": 46,
   "metadata": {},
   "outputs": [
    {
     "name": "stdout",
     "output_type": "stream",
     "text": [
      "42.82% of orders are returned by ladies\n"
     ]
    }
   ],
   "source": [
    "percentage_female_returns = X[X['predicted_gender'] == 0]['returns'].sum() / X[X['predicted_gender'] == 0]['orders'].sum()\n",
    "print(f'{round(percentage_female_returns*100,2)}% of orders are returned by ladies')"
   ]
  },
  {
   "cell_type": "code",
   "execution_count": null,
   "metadata": {},
   "outputs": [],
   "source": []
  },
  {
   "cell_type": "markdown",
   "metadata": {},
   "source": [
    "## Items purchased by both the genders"
   ]
  },
  {
   "cell_type": "code",
   "execution_count": 47,
   "metadata": {},
   "outputs": [
    {
     "data": {
      "text/html": [
       "<div>\n",
       "<style scoped>\n",
       "    .dataframe tbody tr th:only-of-type {\n",
       "        vertical-align: middle;\n",
       "    }\n",
       "\n",
       "    .dataframe tbody tr th {\n",
       "        vertical-align: top;\n",
       "    }\n",
       "\n",
       "    .dataframe thead th {\n",
       "        text-align: right;\n",
       "    }\n",
       "</style>\n",
       "<table border=\"1\" class=\"dataframe\">\n",
       "  <thead>\n",
       "    <tr style=\"text-align: right;\">\n",
       "      <th></th>\n",
       "      <th>macc_items</th>\n",
       "      <th>mapp_items</th>\n",
       "      <th>mftw_items</th>\n",
       "      <th>mspt_items</th>\n",
       "      <th>unisex_items</th>\n",
       "      <th>wacc_items</th>\n",
       "      <th>wapp_items</th>\n",
       "      <th>wftw_items</th>\n",
       "      <th>wspt_items</th>\n",
       "    </tr>\n",
       "    <tr>\n",
       "      <th>predicted_gender</th>\n",
       "      <th></th>\n",
       "      <th></th>\n",
       "      <th></th>\n",
       "      <th></th>\n",
       "      <th></th>\n",
       "      <th></th>\n",
       "      <th></th>\n",
       "      <th></th>\n",
       "      <th></th>\n",
       "    </tr>\n",
       "  </thead>\n",
       "  <tbody>\n",
       "    <tr>\n",
       "      <th>0</th>\n",
       "      <td>26544</td>\n",
       "      <td>21573</td>\n",
       "      <td>9928</td>\n",
       "      <td>2997</td>\n",
       "      <td>13353</td>\n",
       "      <td>26544</td>\n",
       "      <td>175633</td>\n",
       "      <td>75589</td>\n",
       "      <td>17518</td>\n",
       "    </tr>\n",
       "    <tr>\n",
       "      <th>1</th>\n",
       "      <td>0</td>\n",
       "      <td>21332</td>\n",
       "      <td>9515</td>\n",
       "      <td>2369</td>\n",
       "      <td>4698</td>\n",
       "      <td>0</td>\n",
       "      <td>0</td>\n",
       "      <td>0</td>\n",
       "      <td>0</td>\n",
       "    </tr>\n",
       "  </tbody>\n",
       "</table>\n",
       "</div>"
      ],
      "text/plain": [
       "                  macc_items  mapp_items  mftw_items  mspt_items  \\\n",
       "predicted_gender                                                   \n",
       "0                      26544       21573        9928        2997   \n",
       "1                          0       21332        9515        2369   \n",
       "\n",
       "                  unisex_items  wacc_items  wapp_items  wftw_items  wspt_items  \n",
       "predicted_gender                                                                \n",
       "0                        13353       26544      175633       75589       17518  \n",
       "1                         4698           0           0           0           0  "
      ]
     },
     "execution_count": 47,
     "metadata": {},
     "output_type": "execute_result"
    }
   ],
   "source": [
    "items_tbl = X.pivot_table(index=['predicted_gender'],\n",
    "                          values=['macc_items','mapp_items','mftw_items','mspt_items',\\\n",
    "                                   'wacc_items','wapp_items', 'wftw_items','wspt_items','unisex_items'],\n",
    "                          aggfunc=np.sum)\n",
    "\n",
    "items_tbl"
   ]
  },
  {
   "cell_type": "code",
   "execution_count": 48,
   "metadata": {},
   "outputs": [
    {
     "data": {
      "text/plain": [
       "<matplotlib.axes._subplots.AxesSubplot at 0x7f1ec44f50f0>"
      ]
     },
     "execution_count": 48,
     "metadata": {},
     "output_type": "execute_result"
    },
    {
     "data": {
      "image/png": "[encoded data removed]",
      "text/plain": [
       "<Figure size 720x360 with 1 Axes>"
      ]
     },
     "metadata": {
      "needs_background": "light"
     },
     "output_type": "display_data"
    }
   ],
   "source": [
    "items_tbl.plot(kind='bar',title='Items Purchased by both the genders',figsize=(10,5))"
   ]
  },
  {
   "cell_type": "markdown",
   "metadata": {},
   "source": [
    "Women's have significant impact on men's items, so **marketing stragegy** for men's items should attract women as well.<br> \n",
    "Women's Apparel are the top selling item."
   ]
  },
  {
   "cell_type": "markdown",
   "metadata": {},
   "source": [
    "## Items purchased on devices catagorized by gender"
   ]
  },
  {
   "cell_type": "code",
   "execution_count": 49,
   "metadata": {},
   "outputs": [
    {
     "data": {
      "text/html": [
       "<div>\n",
       "<style scoped>\n",
       "    .dataframe tbody tr th:only-of-type {\n",
       "        vertical-align: middle;\n",
       "    }\n",
       "\n",
       "    .dataframe tbody tr th {\n",
       "        vertical-align: top;\n",
       "    }\n",
       "\n",
       "    .dataframe thead th {\n",
       "        text-align: right;\n",
       "    }\n",
       "</style>\n",
       "<table border=\"1\" class=\"dataframe\">\n",
       "  <thead>\n",
       "    <tr style=\"text-align: right;\">\n",
       "      <th></th>\n",
       "      <th>android_orders</th>\n",
       "      <th>desktop_orders</th>\n",
       "      <th>devices</th>\n",
       "      <th>ios_orders</th>\n",
       "      <th>msite_orders</th>\n",
       "      <th>other_device_orders</th>\n",
       "    </tr>\n",
       "    <tr>\n",
       "      <th>predicted_gender</th>\n",
       "      <th></th>\n",
       "      <th></th>\n",
       "      <th></th>\n",
       "      <th></th>\n",
       "      <th></th>\n",
       "      <th></th>\n",
       "    </tr>\n",
       "  </thead>\n",
       "  <tbody>\n",
       "    <tr>\n",
       "      <th>0</th>\n",
       "      <td>0.049199</td>\n",
       "      <td>3.001631</td>\n",
       "      <td>1.333915</td>\n",
       "      <td>0.568546</td>\n",
       "      <td>1.169519</td>\n",
       "      <td>0.000057</td>\n",
       "    </tr>\n",
       "    <tr>\n",
       "      <th>1</th>\n",
       "      <td>0.023635</td>\n",
       "      <td>1.460975</td>\n",
       "      <td>1.103536</td>\n",
       "      <td>0.137578</td>\n",
       "      <td>0.388394</td>\n",
       "      <td>0.000000</td>\n",
       "    </tr>\n",
       "  </tbody>\n",
       "</table>\n",
       "</div>"
      ],
      "text/plain": [
       "                  android_orders  desktop_orders   devices  ios_orders  \\\n",
       "predicted_gender                                                         \n",
       "0                       0.049199        3.001631  1.333915    0.568546   \n",
       "1                       0.023635        1.460975  1.103536    0.137578   \n",
       "\n",
       "                  msite_orders  other_device_orders  \n",
       "predicted_gender                                     \n",
       "0                     1.169519             0.000057  \n",
       "1                     0.388394             0.000000  "
      ]
     },
     "execution_count": 49,
     "metadata": {},
     "output_type": "execute_result"
    }
   ],
   "source": [
    "items_devices_tbl = X.pivot_table(index=['predicted_gender'],\n",
    "                                  values=['msite_orders','other_device_orders','ios_orders','android_orders','desktop_orders',\n",
    "                                  'devices'],\n",
    "                                  aggfunc=np.mean)\n",
    "\n",
    "items_devices_tbl"
   ]
  },
  {
   "cell_type": "code",
   "execution_count": 50,
   "metadata": {},
   "outputs": [
    {
     "data": {
      "text/plain": [
       "<matplotlib.axes._subplots.AxesSubplot at 0x7f1ec45af278>"
      ]
     },
     "execution_count": 50,
     "metadata": {},
     "output_type": "execute_result"
    },
    {
     "data": {
      "image/png": "[encoded data removed]",
      "text/plain": [
       "<Figure size 720x360 with 1 Axes>"
      ]
     },
     "metadata": {
      "needs_background": "light"
     },
     "output_type": "display_data"
    }
   ],
   "source": [
    "items_devices_tbl.plot(kind='bar',title='Items Purchased on devices by  genders',figsize=(10,5))"
   ]
  },
  {
   "cell_type": "markdown",
   "metadata": {},
   "source": [
    "1) Desktop is the preferred way to purchase, so concentrate Ads on desktops. <br>\n",
    "2) And Ios/Apple devices are popular in this area. <br>\n",
    "3) As orders from mobile site is more, either encourage customers to use mobile apps by having more offers on mobile apps OR enhance to mobile App to attract customers, as they might be forced to use mobile sites.<br>\n",
    "***"
   ]
  },
  {
   "cell_type": "markdown",
   "metadata": {},
   "source": [
    "## Active users & locations"
   ]
  },
  {
   "cell_type": "code",
   "execution_count": 51,
   "metadata": {},
   "outputs": [
    {
     "data": {
      "text/html": [
       "<div>\n",
       "<style scoped>\n",
       "    .dataframe tbody tr th:only-of-type {\n",
       "        vertical-align: middle;\n",
       "    }\n",
       "\n",
       "    .dataframe tbody tr th {\n",
       "        vertical-align: top;\n",
       "    }\n",
       "\n",
       "    .dataframe thead th {\n",
       "        text-align: right;\n",
       "    }\n",
       "</style>\n",
       "<table border=\"1\" class=\"dataframe\">\n",
       "  <thead>\n",
       "    <tr style=\"text-align: right;\">\n",
       "      <th></th>\n",
       "      <th>days_since_first_order</th>\n",
       "      <th>days_since_last_order</th>\n",
       "    </tr>\n",
       "    <tr>\n",
       "      <th>predicted_gender</th>\n",
       "      <th></th>\n",
       "      <th></th>\n",
       "    </tr>\n",
       "  </thead>\n",
       "  <tbody>\n",
       "    <tr>\n",
       "      <th>0</th>\n",
       "      <td>1381.229994</td>\n",
       "      <td>23153.585804</td>\n",
       "    </tr>\n",
       "    <tr>\n",
       "      <th>1</th>\n",
       "      <td>1351.890643</td>\n",
       "      <td>29027.086692</td>\n",
       "    </tr>\n",
       "  </tbody>\n",
       "</table>\n",
       "</div>"
      ],
      "text/plain": [
       "                  days_since_first_order  days_since_last_order\n",
       "predicted_gender                                               \n",
       "0                            1381.229994           23153.585804\n",
       "1                            1351.890643           29027.086692"
      ]
     },
     "execution_count": 51,
     "metadata": {},
     "output_type": "execute_result"
    }
   ],
   "source": [
    "active_users_tbl = X.pivot_table(index=['predicted_gender'],\n",
    "                          values=['days_since_last_order','days_since_first_order'],\n",
    "                          aggfunc=np.mean)\n",
    "\n",
    "active_users_tbl"
   ]
  },
  {
   "cell_type": "code",
   "execution_count": 52,
   "metadata": {},
   "outputs": [
    {
     "data": {
      "text/plain": [
       "<matplotlib.axes._subplots.AxesSubplot at 0x7f1ec4616978>"
      ]
     },
     "execution_count": 52,
     "metadata": {},
     "output_type": "execute_result"
    },
    {
     "data": {
      "image/png": "[encoded data removed]",
      "text/plain": [
       "<Figure size 720x360 with 1 Axes>"
      ]
     },
     "metadata": {
      "needs_background": "light"
     },
     "output_type": "display_data"
    }
   ],
   "source": [
    "active_users_tbl.plot(kind='bar',title='Active Users',figsize=(10,5))"
   ]
  },
  {
   "cell_type": "markdown",
   "metadata": {},
   "source": [
    "Females are more active in shopping than men, as they have less average days_since_last_order"
   ]
  },
  {
   "cell_type": "markdown",
   "metadata": {},
   "source": [
    "## Prefered locations by users based on gender"
   ]
  },
  {
   "cell_type": "code",
   "execution_count": 53,
   "metadata": {},
   "outputs": [
    {
     "data": {
      "text/html": [
       "<div>\n",
       "<style scoped>\n",
       "    .dataframe tbody tr th:only-of-type {\n",
       "        vertical-align: middle;\n",
       "    }\n",
       "\n",
       "    .dataframe tbody tr th {\n",
       "        vertical-align: top;\n",
       "    }\n",
       "\n",
       "    .dataframe thead th {\n",
       "        text-align: right;\n",
       "    }\n",
       "</style>\n",
       "<table border=\"1\" class=\"dataframe\">\n",
       "  <thead>\n",
       "    <tr style=\"text-align: right;\">\n",
       "      <th></th>\n",
       "      <th>home_orders</th>\n",
       "      <th>other_collection_orders</th>\n",
       "      <th>parcelpoint_orders</th>\n",
       "      <th>work_orders</th>\n",
       "    </tr>\n",
       "    <tr>\n",
       "      <th>predicted_gender</th>\n",
       "      <th></th>\n",
       "      <th></th>\n",
       "      <th></th>\n",
       "      <th></th>\n",
       "    </tr>\n",
       "  </thead>\n",
       "  <tbody>\n",
       "    <tr>\n",
       "      <th>0</th>\n",
       "      <td>64439</td>\n",
       "      <td>91874</td>\n",
       "      <td>1023</td>\n",
       "      <td>9990</td>\n",
       "    </tr>\n",
       "    <tr>\n",
       "      <th>1</th>\n",
       "      <td>6469</td>\n",
       "      <td>15075</td>\n",
       "      <td>147</td>\n",
       "      <td>1107</td>\n",
       "    </tr>\n",
       "  </tbody>\n",
       "</table>\n",
       "</div>"
      ],
      "text/plain": [
       "                  home_orders  other_collection_orders  parcelpoint_orders  \\\n",
       "predicted_gender                                                             \n",
       "0                       64439                    91874                1023   \n",
       "1                        6469                    15075                 147   \n",
       "\n",
       "                  work_orders  \n",
       "predicted_gender               \n",
       "0                        9990  \n",
       "1                        1107  "
      ]
     },
     "execution_count": 53,
     "metadata": {},
     "output_type": "execute_result"
    }
   ],
   "source": [
    "users_location_tbl = X.pivot_table(index=['predicted_gender'],\n",
    "                          values=['work_orders','home_orders','parcelpoint_orders','other_collection_orders'],\n",
    "                          aggfunc=np.sum)\n",
    "\n",
    "users_location_tbl"
   ]
  },
  {
   "cell_type": "code",
   "execution_count": 54,
   "metadata": {},
   "outputs": [
    {
     "data": {
      "text/plain": [
       "<matplotlib.axes._subplots.AxesSubplot at 0x7f1ec46d6438>"
      ]
     },
     "execution_count": 54,
     "metadata": {},
     "output_type": "execute_result"
    },
    {
     "data": {
      "image/png": "[encoded data removed]",
      "text/plain": [
       "<Figure size 720x360 with 1 Axes>"
      ]
     },
     "metadata": {
      "needs_background": "light"
     },
     "output_type": "display_data"
    }
   ],
   "source": [
    "users_location_tbl.plot(kind='bar',title='User location trend',figsize=(10,5))"
   ]
  },
  {
   "cell_type": "markdown",
   "metadata": {},
   "source": [
    "- Both the gender prefer orders to be delivered to the \"other collection points\" followed by \"home\". <br>\n",
    "- **INSIGHT: females order more gifts, for non-work collegues**. since number of orders shipped to other collection points is greater than home orders <br>\n",
    "- The site offers more gift items or used data was collection during festive season (Thanksgiving ,etc) "
   ]
  },
  {
   "cell_type": "markdown",
   "metadata": {},
   "source": [
    "## Prefered payment by gender"
   ]
  },
  {
   "cell_type": "code",
   "execution_count": 55,
   "metadata": {},
   "outputs": [
    {
     "data": {
      "text/html": [
       "<div>\n",
       "<style scoped>\n",
       "    .dataframe tbody tr th:only-of-type {\n",
       "        vertical-align: middle;\n",
       "    }\n",
       "\n",
       "    .dataframe tbody tr th {\n",
       "        vertical-align: top;\n",
       "    }\n",
       "\n",
       "    .dataframe thead th {\n",
       "        text-align: right;\n",
       "    }\n",
       "</style>\n",
       "<table border=\"1\" class=\"dataframe\">\n",
       "  <thead>\n",
       "    <tr style=\"text-align: right;\">\n",
       "      <th></th>\n",
       "      <th>afterpay_payments</th>\n",
       "      <th>apple_payments</th>\n",
       "      <th>cc_payments</th>\n",
       "      <th>paypal_payments</th>\n",
       "    </tr>\n",
       "    <tr>\n",
       "      <th>predicted_gender</th>\n",
       "      <th></th>\n",
       "      <th></th>\n",
       "      <th></th>\n",
       "      <th></th>\n",
       "    </tr>\n",
       "  </thead>\n",
       "  <tbody>\n",
       "    <tr>\n",
       "      <th>0</th>\n",
       "      <td>2186</td>\n",
       "      <td>19</td>\n",
       "      <td>22938</td>\n",
       "      <td>17645</td>\n",
       "    </tr>\n",
       "    <tr>\n",
       "      <th>1</th>\n",
       "      <td>287</td>\n",
       "      <td>7</td>\n",
       "      <td>6791</td>\n",
       "      <td>5074</td>\n",
       "    </tr>\n",
       "  </tbody>\n",
       "</table>\n",
       "</div>"
      ],
      "text/plain": [
       "                  afterpay_payments  apple_payments  cc_payments  \\\n",
       "predicted_gender                                                   \n",
       "0                              2186              19        22938   \n",
       "1                               287               7         6791   \n",
       "\n",
       "                  paypal_payments  \n",
       "predicted_gender                   \n",
       "0                           17645  \n",
       "1                            5074  "
      ]
     },
     "execution_count": 55,
     "metadata": {},
     "output_type": "execute_result"
    }
   ],
   "source": [
    "prefered_payments_tbl = X.pivot_table(index=['predicted_gender'],\n",
    "                          values=['cc_payments','paypal_payments','apple_payments','afterpay_payments'],\n",
    "                          aggfunc=np.sum)\n",
    "\n",
    "prefered_payments_tbl"
   ]
  },
  {
   "cell_type": "code",
   "execution_count": 56,
   "metadata": {},
   "outputs": [
    {
     "data": {
      "text/plain": [
       "<matplotlib.axes._subplots.AxesSubplot at 0x7f1ec4a2da20>"
      ]
     },
     "execution_count": 56,
     "metadata": {},
     "output_type": "execute_result"
    },
    {
     "data": {
      "image/png": "[encoded data removed]",
      "text/plain": [
       "<Figure size 720x360 with 1 Axes>"
      ]
     },
     "metadata": {
      "needs_background": "light"
     },
     "output_type": "display_data"
    }
   ],
   "source": [
    "prefered_payments_tbl.plot(kind='bar',title='Prefered payment methods',figsize=(10,5))"
   ]
  },
  {
   "cell_type": "markdown",
   "metadata": {},
   "source": [
    "Apple payment is not popular at the moment, even though most of the users use ios devices, <br> Credit card is prefered first followed by paypal"
   ]
  },
  {
   "cell_type": "markdown",
   "metadata": {},
   "source": [
    "## Subscribers distribution"
   ]
  },
  {
   "cell_type": "code",
   "execution_count": 57,
   "metadata": {},
   "outputs": [
    {
     "data": {
      "text/html": [
       "<div>\n",
       "<style scoped>\n",
       "    .dataframe tbody tr th:only-of-type {\n",
       "        vertical-align: middle;\n",
       "    }\n",
       "\n",
       "    .dataframe tbody tr th {\n",
       "        vertical-align: top;\n",
       "    }\n",
       "\n",
       "    .dataframe thead th {\n",
       "        text-align: right;\n",
       "    }\n",
       "</style>\n",
       "<table border=\"1\" class=\"dataframe\">\n",
       "  <thead>\n",
       "    <tr style=\"text-align: right;\">\n",
       "      <th></th>\n",
       "      <th>is_newsletter_subscriber</th>\n",
       "    </tr>\n",
       "    <tr>\n",
       "      <th>predicted_gender</th>\n",
       "      <th></th>\n",
       "    </tr>\n",
       "  </thead>\n",
       "  <tbody>\n",
       "    <tr>\n",
       "      <th>0</th>\n",
       "      <td>15443</td>\n",
       "    </tr>\n",
       "    <tr>\n",
       "      <th>1</th>\n",
       "      <td>3462</td>\n",
       "    </tr>\n",
       "  </tbody>\n",
       "</table>\n",
       "</div>"
      ],
      "text/plain": [
       "                  is_newsletter_subscriber\n",
       "predicted_gender                          \n",
       "0                                    15443\n",
       "1                                     3462"
      ]
     },
     "execution_count": 57,
     "metadata": {},
     "output_type": "execute_result"
    }
   ],
   "source": [
    "subcribers_tbl = X.pivot_table(index=['predicted_gender'],\n",
    "                          values=['is_newsletter_subscriber'],\n",
    "                          aggfunc=np.sum)\n",
    "\n",
    "subcribers_tbl"
   ]
  },
  {
   "cell_type": "code",
   "execution_count": 58,
   "metadata": {},
   "outputs": [
    {
     "data": {
      "text/plain": [
       "array([<matplotlib.axes._subplots.AxesSubplot object at 0x7f1ec4ae4048>],\n",
       "      dtype=object)"
      ]
     },
     "execution_count": 58,
     "metadata": {},
     "output_type": "execute_result"
    },
    {
     "data": {
      "image/png": "[encoded data removed]",
      "text/plain": [
       "<Figure size 432x288 with 1 Axes>"
      ]
     },
     "metadata": {},
     "output_type": "display_data"
    }
   ],
   "source": [
    "subcribers_tbl.plot(kind='pie',title='Subscribers gender distribution',subplots=True)"
   ]
  },
  {
   "cell_type": "markdown",
   "metadata": {},
   "source": [
    "We have more female subscribers than males"
   ]
  },
  {
   "cell_type": "markdown",
   "metadata": {},
   "source": [
    "## Discounts used by genders"
   ]
  },
  {
   "cell_type": "code",
   "execution_count": 59,
   "metadata": {},
   "outputs": [
    {
     "data": {
      "text/html": [
       "<div>\n",
       "<style scoped>\n",
       "    .dataframe tbody tr th:only-of-type {\n",
       "        vertical-align: middle;\n",
       "    }\n",
       "\n",
       "    .dataframe tbody tr th {\n",
       "        vertical-align: top;\n",
       "    }\n",
       "\n",
       "    .dataframe thead th {\n",
       "        text-align: right;\n",
       "    }\n",
       "</style>\n",
       "<table border=\"1\" class=\"dataframe\">\n",
       "  <thead>\n",
       "    <tr style=\"text-align: right;\">\n",
       "      <th></th>\n",
       "      <th>average_discount_used</th>\n",
       "    </tr>\n",
       "    <tr>\n",
       "      <th>predicted_gender</th>\n",
       "      <th></th>\n",
       "    </tr>\n",
       "  </thead>\n",
       "  <tbody>\n",
       "    <tr>\n",
       "      <th>0</th>\n",
       "      <td>2415.209501</td>\n",
       "    </tr>\n",
       "    <tr>\n",
       "      <th>1</th>\n",
       "      <td>2179.191489</td>\n",
       "    </tr>\n",
       "  </tbody>\n",
       "</table>\n",
       "</div>"
      ],
      "text/plain": [
       "                  average_discount_used\n",
       "predicted_gender                       \n",
       "0                           2415.209501\n",
       "1                           2179.191489"
      ]
     },
     "execution_count": 59,
     "metadata": {},
     "output_type": "execute_result"
    }
   ],
   "source": [
    "discounts_tbl = X.pivot_table(index=['predicted_gender'],\n",
    "                          values=['average_discount_used'],\n",
    "                          aggfunc=np.mean)\n",
    "\n",
    "discounts_tbl"
   ]
  },
  {
   "cell_type": "code",
   "execution_count": 60,
   "metadata": {},
   "outputs": [
    {
     "data": {
      "text/plain": [
       "array([<matplotlib.axes._subplots.AxesSubplot object at 0x7f1ec4b10d30>],\n",
       "      dtype=object)"
      ]
     },
     "execution_count": 60,
     "metadata": {},
     "output_type": "execute_result"
    },
    {
     "data": {
      "image/png": "[encoded data removed]",
      "text/plain": [
       "<Figure size 432x288 with 1 Axes>"
      ]
     },
     "metadata": {},
     "output_type": "display_data"
    }
   ],
   "source": [
    "discounts_tbl.plot(kind='pie',title='Discounts used by gender',subplots=True)"
   ]
  },
  {
   "cell_type": "markdown",
   "metadata": {},
   "source": [
    "Discounts are utilized equally by both the genders"
   ]
  },
  {
   "cell_type": "markdown",
   "metadata": {},
   "source": [
    "## Average total Items purchased by gender"
   ]
  },
  {
   "cell_type": "code",
   "execution_count": 61,
   "metadata": {},
   "outputs": [
    {
     "data": {
      "text/html": [
       "<div>\n",
       "<style scoped>\n",
       "    .dataframe tbody tr th:only-of-type {\n",
       "        vertical-align: middle;\n",
       "    }\n",
       "\n",
       "    .dataframe tbody tr th {\n",
       "        vertical-align: top;\n",
       "    }\n",
       "\n",
       "    .dataframe thead th {\n",
       "        text-align: right;\n",
       "    }\n",
       "</style>\n",
       "<table border=\"1\" class=\"dataframe\">\n",
       "  <thead>\n",
       "    <tr style=\"text-align: right;\">\n",
       "      <th></th>\n",
       "      <th>items</th>\n",
       "    </tr>\n",
       "    <tr>\n",
       "      <th>predicted_gender</th>\n",
       "      <th></th>\n",
       "    </tr>\n",
       "  </thead>\n",
       "  <tbody>\n",
       "    <tr>\n",
       "      <th>0</th>\n",
       "      <td>10.117086</td>\n",
       "    </tr>\n",
       "    <tr>\n",
       "      <th>1</th>\n",
       "      <td>3.823529</td>\n",
       "    </tr>\n",
       "  </tbody>\n",
       "</table>\n",
       "</div>"
      ],
      "text/plain": [
       "                      items\n",
       "predicted_gender           \n",
       "0                 10.117086\n",
       "1                  3.823529"
      ]
     },
     "execution_count": 61,
     "metadata": {},
     "output_type": "execute_result"
    }
   ],
   "source": [
    "avg_items_purchased = X.pivot_table(index=['predicted_gender'],\n",
    "                          values=['items'],\n",
    "                          aggfunc=np.mean)\n",
    "\n",
    "avg_items_purchased"
   ]
  },
  {
   "cell_type": "code",
   "execution_count": 62,
   "metadata": {},
   "outputs": [
    {
     "data": {
      "text/plain": [
       "array([<matplotlib.axes._subplots.AxesSubplot object at 0x7f1ec4b89cc0>],\n",
       "      dtype=object)"
      ]
     },
     "execution_count": 62,
     "metadata": {},
     "output_type": "execute_result"
    },
    {
     "data": {
      "image/png": "[encoded data removed]",
      "text/plain": [
       "<Figure size 432x288 with 1 Axes>"
      ]
     },
     "metadata": {},
     "output_type": "display_data"
    }
   ],
   "source": [
    "avg_items_purchased.plot(kind='pie',title='Average total items purchased',subplots=True)"
   ]
  },
  {
   "cell_type": "markdown",
   "metadata": {},
   "source": [
    "On average, females have purchased more items than males. "
   ]
  },
  {
   "cell_type": "markdown",
   "metadata": {},
   "source": [
    "## Items preferences by gender"
   ]
  },
  {
   "cell_type": "code",
   "execution_count": 63,
   "metadata": {},
   "outputs": [
    {
     "data": {
      "text/html": [
       "<div>\n",
       "<style scoped>\n",
       "    .dataframe tbody tr th:only-of-type {\n",
       "        vertical-align: middle;\n",
       "    }\n",
       "\n",
       "    .dataframe tbody tr th {\n",
       "        vertical-align: top;\n",
       "    }\n",
       "\n",
       "    .dataframe thead th {\n",
       "        text-align: right;\n",
       "    }\n",
       "</style>\n",
       "<table border=\"1\" class=\"dataframe\">\n",
       "  <thead>\n",
       "    <tr style=\"text-align: right;\">\n",
       "      <th></th>\n",
       "      <th>actual_female_items</th>\n",
       "      <th>actual_male_items</th>\n",
       "    </tr>\n",
       "    <tr>\n",
       "      <th>predicted_gender</th>\n",
       "      <th></th>\n",
       "      <th></th>\n",
       "    </tr>\n",
       "  </thead>\n",
       "  <tbody>\n",
       "    <tr>\n",
       "      <th>0</th>\n",
       "      <td>8.451173</td>\n",
       "      <td>1.747052</td>\n",
       "    </tr>\n",
       "    <tr>\n",
       "      <th>1</th>\n",
       "      <td>0.000000</td>\n",
       "      <td>2.929359</td>\n",
       "    </tr>\n",
       "  </tbody>\n",
       "</table>\n",
       "</div>"
      ],
      "text/plain": [
       "                  actual_female_items  actual_male_items\n",
       "predicted_gender                                        \n",
       "0                            8.451173           1.747052\n",
       "1                            0.000000           2.929359"
      ]
     },
     "execution_count": 63,
     "metadata": {},
     "output_type": "execute_result"
    }
   ],
   "source": [
    "item_pref_tbl = X.pivot_table(index=['predicted_gender'],\n",
    "                          values=['actual_female_items','actual_male_items'],\n",
    "                          aggfunc=np.mean)\n",
    "\n",
    "item_pref_tbl"
   ]
  },
  {
   "cell_type": "code",
   "execution_count": 64,
   "metadata": {},
   "outputs": [
    {
     "data": {
      "text/plain": [
       "<matplotlib.axes._subplots.AxesSubplot at 0x7f1ec4c33128>"
      ]
     },
     "execution_count": 64,
     "metadata": {},
     "output_type": "execute_result"
    },
    {
     "data": {
      "image/png": "[encoded data removed]",
      "text/plain": [
       "<Figure size 432x288 with 1 Axes>"
      ]
     },
     "metadata": {
      "needs_background": "light"
     },
     "output_type": "display_data"
    }
   ],
   "source": [
    "item_pref_tbl.plot(kind='bar',title='Items Catagory purchased')"
   ]
  },
  {
   "cell_type": "markdown",
   "metadata": {},
   "source": [
    "<font color=blue>\n",
    "\n",
    "**Observation:** Females purchase men's collection for gifting purposes :-), but men does not purchase gifts for women's items :(. <br>\n",
    "\n",
    "</font>\n"
   ]
  },
  {
   "cell_type": "markdown",
   "metadata": {},
   "source": [
    "***"
   ]
  }
 ],
 "metadata": {
  "kernelspec": {
   "display_name": "Python 3",
   "language": "python",
   "name": "python3"
  },
  "language_info": {
   "codemirror_mode": {
    "name": "ipython",
    "version": 3
   },
   "file_extension": ".py",
   "mimetype": "text/x-python",
   "name": "python",
   "nbconvert_exporter": "python",
   "pygments_lexer": "ipython3",
   "version": "3.7.3"
  }
 },
 "nbformat": 4,
 "nbformat_minor": 2
}
